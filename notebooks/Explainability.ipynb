{
 "cells": [
  {
   "cell_type": "code",
   "execution_count": 1,
   "id": "3f876e84",
   "metadata": {},
   "outputs": [
    {
     "name": "stderr",
     "output_type": "stream",
     "text": [
      "/home/g/10/week 8 9/Improved-detection-of-fraud-cases-for-e-commerce-and-bank-transactions/.venv/lib/python3.12/site-packages/tqdm/auto.py:21: TqdmWarning: IProgress not found. Please update jupyter and ipywidgets. See https://ipywidgets.readthedocs.io/en/stable/user_install.html\n",
      "  from .autonotebook import tqdm as notebook_tqdm\n"
     ]
    }
   ],
   "source": [
    "import shap\n",
    "import matplotlib.pyplot as plt"
   ]
  },
  {
   "cell_type": "code",
   "execution_count": 7,
   "id": "a4ed0d5b",
   "metadata": {},
   "outputs": [
    {
     "ename": "UnpicklingError",
     "evalue": "STACK_GLOBAL requires str",
     "output_type": "error",
     "traceback": [
      "\u001b[31m---------------------------------------------------------------------------\u001b[39m",
      "\u001b[31mUnpicklingError\u001b[39m                           Traceback (most recent call last)",
      "\u001b[36mCell\u001b[39m\u001b[36m \u001b[39m\u001b[32mIn[7]\u001b[39m\u001b[32m, line 3\u001b[39m\n\u001b[32m      1\u001b[39m \u001b[38;5;28;01mimport\u001b[39;00m\u001b[38;5;250m \u001b[39m\u001b[34;01mpickle\u001b[39;00m\n\u001b[32m      2\u001b[39m \u001b[38;5;28;01mwith\u001b[39;00m \u001b[38;5;28mopen\u001b[39m(\u001b[33m'\u001b[39m\u001b[33mmodel/random_forest_card.pkl\u001b[39m\u001b[33m'\u001b[39m, \u001b[33m'\u001b[39m\u001b[33mrb\u001b[39m\u001b[33m'\u001b[39m) \u001b[38;5;28;01mas\u001b[39;00m file:\n\u001b[32m----> \u001b[39m\u001b[32m3\u001b[39m     best_model = \u001b[43mpickle\u001b[49m\u001b[43m.\u001b[49m\u001b[43mload\u001b[49m\u001b[43m(\u001b[49m\u001b[43mfile\u001b[49m\u001b[43m)\u001b[49m\n",
      "\u001b[31mUnpicklingError\u001b[39m: STACK_GLOBAL requires str"
     ]
    }
   ],
   "source": [
    "import pickle\n",
    "with open('model/random_forest_card.pkl', 'rb') as file:\n",
    "    best_model = pickle.load(file)"
   ]
  },
  {
   "cell_type": "code",
   "execution_count": 6,
   "id": "f1a32915",
   "metadata": {},
   "outputs": [
    {
     "name": "stdout",
     "output_type": "stream",
     "text": [
      "/home/g/10/week 8 9/Improved-detection-of-fraud-cases-for-e-commerce-and-bank-transactions/notebooks\n",
      "['model', 'Explainability.ipynb', 'data_analysis_and_preprocessing.ipynb', 'Model', 'Model_Building_and_Training.ipynb']\n"
     ]
    }
   ],
   "source": [
    "import os\n",
    "print(os.getcwd())  # Check current directory\n",
    "print(os.listdir()) # List files in the current directory"
   ]
  },
  {
   "cell_type": "code",
   "execution_count": null,
   "id": "daaae45a",
   "metadata": {},
   "outputs": [],
   "source": [
    "\n",
    "\n",
    "# Select the best-performing model (assuming Random Forest for this example)\n",
    " # Replace with your best model based on evaluation\n",
    "\n",
    "# Prepare the data for SHAP\n",
    "# Use the training data for SHAP values calculation\n",
    "explainer = shap.TreeExplainer(best_model)\n",
    "shap_values = explainer.shap_values(X_fraud_train)\n",
    "\n",
    "# Summary Plot\n",
    "plt.figure(figsize=(10, 6))\n",
    "shap.summary_plot(shap_values, X_fraud_train, feature_names=X_fraud_train.columns)\n",
    "plt.title(\"SHAP Summary Plot for Best Model (Random Forest)\")\n",
    "plt.show()\n",
    "\n",
    "# Force Plot for a single prediction\n",
    "# Choose an instance to explain (e.g., the first instance in the test set)\n",
    "instance_to_explain = X_fraud_test.iloc[0]\n",
    "shap_value_instance = explainer.shap_values(instance_to_explain)\n",
    "\n",
    "plt.figure()\n",
    "shap.force_plot(explainer.expected_value, shap_value_instance, instance_to_explain)\n",
    "plt.title(\"SHAP Force Plot for a Single Prediction\")\n",
    "plt.show()"
   ]
  }
 ],
 "metadata": {
  "kernelspec": {
   "display_name": ".venv",
   "language": "python",
   "name": "python3"
  },
  "language_info": {
   "codemirror_mode": {
    "name": "ipython",
    "version": 3
   },
   "file_extension": ".py",
   "mimetype": "text/x-python",
   "name": "python",
   "nbconvert_exporter": "python",
   "pygments_lexer": "ipython3",
   "version": "3.12.3"
  }
 },
 "nbformat": 4,
 "nbformat_minor": 5
}
