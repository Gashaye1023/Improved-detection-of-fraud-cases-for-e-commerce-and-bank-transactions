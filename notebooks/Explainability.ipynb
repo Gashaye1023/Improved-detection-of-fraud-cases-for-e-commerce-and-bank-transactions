{
 "cells": [
  {
   "cell_type": "code",
   "execution_count": 6,
   "id": "3f876e84",
   "metadata": {},
   "outputs": [],
   "source": [
    "import shap\n",
    "import matplotlib.pyplot as plt\n",
    "import pickle\n",
    "import os\n",
    "import pandas as pd\n",
    "import numpy as np\n",
    "import logging\n",
    "import sys"
   ]
  },
  {
   "cell_type": "code",
   "execution_count": 7,
   "id": "daaae45a",
   "metadata": {},
   "outputs": [],
   "source": [
    "# Configure logging\n",
    "logging.basicConfig(level=logging.INFO, format='%(asctime)s - %(levelname)s - %(message)s')\n",
    "logger = logging.getLogger(__name__)\n",
    "\n",
    "def load_model_and_data(model_path, data_path):\n",
    "    \"\"\"Load the best model and preprocessed data.\"\"\"\n",
    "    try:\n",
    "        with open(model_path, 'rb') as file:\n",
    "            model = pickle.load(file)\n",
    "        logger.info(f\"Model loaded successfully from {model_path}\")\n",
    "        \n",
    "        data = pd.read_csv(data_path)\n",
    "        logger.info(f\"Data loaded successfully from {data_path}\")\n",
    "        return model, data\n",
    "    except FileNotFoundError as e:\n",
    "        logger.error(f\"File not found: {e}\")\n",
    "        sys.exit(1)\n",
    "    except Exception as e:\n",
    "        logger.error(f\"Error loading model or data: {e}\")\n",
    "        sys.exit(1)"
   ]
  },
  {
   "cell_type": "code",
   "execution_count": 8,
   "id": "4200c08f",
   "metadata": {},
   "outputs": [],
   "source": [
    "def prepare_data(data):\n",
    "    \"\"\"Prepare features and target for SHAP analysis.\"\"\"\n",
    "    try:\n",
    "        X = data.drop(columns=['class'])\n",
    "        y = data['class']\n",
    "        logger.info(\"Data prepared for SHAP analysis\")\n",
    "        return X, y\n",
    "    except Exception as e:\n",
    "        logger.error(f\"Error preparing data: {e}\")\n",
    "        sys.exit(1)\n",
    "\n",
    "def generate_shap_plots(model, X, output_dir='plots'):\n",
    "    \"\"\"Generate and save SHAP summary and force plots.\"\"\"\n",
    "    try:\n",
    "        # Ensure output directory exists\n",
    "        os.makedirs(output_dir, exist_ok=True)\n",
    "        \n",
    "        # Initialize SHAP explainer\n",
    "        explainer = shap.TreeExplainer(model)\n",
    "        shap_values = explainer.shap_values(X)\n",
    "        \n",
    "        # Summary Plot\n",
    "        plt.figure(figsize=(10, 6))\n",
    "        shap.summary_plot(shap_values[1], X, feature_names=X.columns, show=False)\n",
    "        plt.title(\"SHAP Summary Plot for Random Forest Model\")\n",
    "        summary_plot_path = os.path.join(output_dir, 'shap_summary_plot.png')\n",
    "        plt.savefig(summary_plot_path)\n",
    "        plt.close()\n",
    "        logger.info(f\"SHAP summary plot saved to {summary_plot_path}\")\n",
    "        \n",
    "        # Force Plot for a single prediction\n",
    "        instance_to_explain = X.iloc[0]\n",
    "        shap_value_instance = explainer.shap_values(instance_to_explain)\n",
    "        plt.figure()\n",
    "        shap.force_plot(explainer.expected_value[1], shap_value_instance[1], instance_to_explain, matplotlib=True, show=False)\n",
    "        plt.title(\"SHAP Force Plot for a Single Prediction\")\n",
    "        force_plot_path = os.path.join(output_dir, 'shap_force_plot.png')\n",
    "        plt.savefig(force_plot_path)\n",
    "        plt.close()\n",
    "        logger.info(f\"SHAP force plot saved to {force_plot_path}\")\n",
    "        \n",
    "        return shap_values\n",
    "    except Exception as e:\n",
    "        logger.error(f\"Error generating SHAP plots: {e}\")\n",
    "        sys.exit(1)"
   ]
  },
  {
   "cell_type": "code",
   "execution_count": 9,
   "id": "9cc7cd99",
   "metadata": {},
   "outputs": [],
   "source": [
    "\n",
    "def interpret_shap_results(shap_values, X):\n",
    "    \"\"\"Interpret SHAP results for key drivers of fraud.\"\"\"\n",
    "    try:\n",
    "        feature_importance = pd.DataFrame({\n",
    "            'feature': X.columns,\n",
    "            'mean_abs_shap': np.abs(shap_values[1]).mean(axis=0)\n",
    "        })\n",
    "        feature_importance = feature_importance.sort_values(by='mean_abs_shap', ascending=False)\n",
    "        \n",
    "        interpretation = (\n",
    "            \"# SHAP Analysis Interpretation\\n\\n\"\n",
    "            \"## Key Drivers of Fraud\\n\"\n",
    "            \"The SHAP summary plot highlights the most influential features driving fraud predictions:\\n\"\n",
    "        )\n",
    "        for i, row in feature_importance.head(5).iterrows():\n",
    "            interpretation += f\"- **{row['feature']}**: This feature has a significant impact on fraud prediction, \"\n",
    "            interpretation += f\"with a mean absolute SHAP value of {row['mean_abs_shap']:.4f}. \"\n",
    "            interpretation += \"Higher or lower values of this feature push the model toward or away from predicting fraud, \"\n",
    "            interpretation += \"depending on the feature's relationship with the target variable.\\n\"\n",
    "        \n",
    "        interpretation += (\n",
    "            \"\\n## Local Interpretation\\n\"\n",
    "            \"The SHAP force plot for a single instance shows how specific feature values contribute to the model's prediction for that instance. \"\n",
    "            \"Features with positive SHAP values increase the likelihood of fraud, while those with negative values decrease it.\\n\"\n",
    "        )\n",
    "        \n",
    "        output_path = os.path.join('reports', 'shap_interpretation.md')\n",
    "        os.makedirs('reports', exist_ok=True)\n",
    "        with open(output_path, 'w') as f:\n",
    "            f.write(interpretation)\n",
    "        logger.info(f\"SHAP interpretation saved to {output_path}\")\n",
    "        \n",
    "        return feature_importance\n",
    "    except Exception as e:\n",
    "        logger.error(f\"Error interpreting SHAP results: {e}\")\n",
    "        sys.exit(1)"
   ]
  },
  {
   "cell_type": "code",
   "execution_count": 11,
   "id": "3ed82e42",
   "metadata": {},
   "outputs": [
    {
     "name": "stderr",
     "output_type": "stream",
     "text": [
      "2025-08-21 16:45:34,743 - INFO - Current working directory: /home/g/ALL/10/week 12/Improved-detection-of-fraud-cases-for-e-commerce-and-bank-transactions/notebooks\n",
      "2025-08-21 16:45:34,745 - INFO - Files in directory: ['Explainability.ipynb', 'shap_analysis.py', 'all.py', 'data_analysis_and_preprocessing.ipynb', 'Model_Building_and_Training.ipynb', 'main.py']\n",
      "2025-08-21 16:45:34,746 - ERROR - File not found: [Errno 2] No such file or directory: 'src/best_fraud_model.pkl'\n"
     ]
    },
    {
     "ename": "SystemExit",
     "evalue": "1",
     "output_type": "error",
     "traceback": [
      "An exception has occurred, use %tb to see the full traceback.\n",
      "\u001b[31mSystemExit\u001b[39m\u001b[31m:\u001b[39m 1\n"
     ]
    }
   ],
   "source": [
    "if __name__ == \"__main__\":\n",
    "    # Configuration\n",
    "    model_path = os.path.join('src', 'best_fraud_model.pkl')\n",
    "    data_path = os.path.join('data', 'processed_fraud_data.csv')\n",
    "    \n",
    "    # Log current working directory and files\n",
    "    logger.info(f\"Current working directory: {os.getcwd()}\")\n",
    "    logger.info(f\"Files in directory: {os.listdir()}\")\n",
    "    \n",
    "    # Load model and data\n",
    "    best_model, data = load_model_and_data(model_path, data_path)\n",
    "    \n",
    "    # Prepare data\n",
    "    X, y = prepare_data(data)\n",
    "    \n",
    "    # Generate SHAP plots\n",
    "    shap_values = generate_shap_plots(best_model, X)\n",
    "    \n",
    "    # Interpret results\n",
    "    feature_importance = interpret_shap_results(shap_values, X)\n",
    "    \n",
    "    logger.info(\"SHAP analysis completed successfully.\")"
   ]
  },
  {
   "cell_type": "code",
   "execution_count": null,
   "id": "737a5c22",
   "metadata": {},
   "outputs": [],
   "source": []
  }
 ],
 "metadata": {
  "kernelspec": {
   "display_name": ".venv",
   "language": "python",
   "name": "python3"
  },
  "language_info": {
   "codemirror_mode": {
    "name": "ipython",
    "version": 3
   },
   "file_extension": ".py",
   "mimetype": "text/x-python",
   "name": "python",
   "nbconvert_exporter": "python",
   "pygments_lexer": "ipython3",
   "version": "3.12.3"
  }
 },
 "nbformat": 4,
 "nbformat_minor": 5
}
